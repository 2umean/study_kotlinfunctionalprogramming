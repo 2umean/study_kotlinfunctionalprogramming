{
 "cells": [
  {
   "cell_type": "code",
   "execution_count": 5,
   "metadata": {
    "collapsed": true,
    "ExecuteTime": {
     "end_time": "2023-09-27T14:18:07.191777Z",
     "start_time": "2023-09-27T14:18:07.071575Z"
    }
   },
   "outputs": [],
   "source": [
    "val <T> List<T>.tail: List<T>\n",
    "    get() = drop(1)\n",
    "\n",
    "val <T> List<T>.head: T\n",
    "    get() = first()\n",
    "\n",
    "fun <A> isSorted(list: List<A>, order: (A, A) -> Boolean): Boolean {\n",
    "    fun go(a: A, list: List<A>): Boolean = when {\n",
    "        list.isEmpty() -> true\n",
    "        !order(a, list.head) -> false\n",
    "        else -> go(list.head, list.tail)\n",
    "    }\n",
    "    return go(list.head, list.tail)\n",
    "}\n",
    "\n",
    "val successCase1 = listOf(1, 2, 3, 4, 5)\n",
    "val failCase1 = listOf(1, 2, 3, 5, 4)\n",
    "assert(isSorted(successCase1) { a1, a2 -> a1 < a2 })\n",
    "assert(isSorted(failCase1) { a1, a2 -> a1 < a2 })"
   ]
  },
  {
   "cell_type": "code",
   "execution_count": null,
   "outputs": [],
   "source": [],
   "metadata": {
    "collapsed": false
   }
  }
 ],
 "metadata": {
  "kernelspec": {
   "display_name": "Kotlin",
   "language": "kotlin",
   "name": "kotlin"
  },
  "language_info": {
   "name": "kotlin",
   "version": "1.8.20",
   "mimetype": "text/x-kotlin",
   "file_extension": ".kt",
   "pygments_lexer": "kotlin",
   "codemirror_mode": "text/x-kotlin",
   "nbconvert_exporter": ""
  }
 },
 "nbformat": 4,
 "nbformat_minor": 0
}
