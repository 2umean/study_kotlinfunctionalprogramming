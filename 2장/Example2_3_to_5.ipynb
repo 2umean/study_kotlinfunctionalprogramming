{
 "cells": [
  {
   "cell_type": "code",
   "execution_count": null,
   "metadata": {
    "collapsed": true
   },
   "outputs": [],
   "source": [
    "fun <A, B, C> curry(f: (A, B) -> C): (A) -> (B) -> (C) = { a: A -> { b: B -> f(a,b) } }\n",
    "fun <A, B, C> uncurry(f: (B) -> C, g: (A) -> B): (A) -> C = { a: A -> f(g(a)) }\n",
    "fun <A, B, C> compose(f: (B) -> C, g: (A) -> B): (A) -> C = { a: A -> f(g(a)) }"
   ]
  }
 ],
 "metadata": {
  "kernelspec": {
   "display_name": "Kotlin",
   "language": "kotlin",
   "name": "kotlin"
  },
  "language_info": {
   "name": "kotlin",
   "version": "1.8.20",
   "mimetype": "text/x-kotlin",
   "file_extension": ".kt",
   "pygments_lexer": "kotlin",
   "codemirror_mode": "text/x-kotlin",
   "nbconvert_exporter": ""
  }
 },
 "nbformat": 4,
 "nbformat_minor": 0
}
