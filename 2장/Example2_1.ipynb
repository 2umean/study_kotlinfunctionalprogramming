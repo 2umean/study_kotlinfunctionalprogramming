{
 "cells": [
  {
   "cell_type": "code",
   "execution_count": 5,
   "metadata": {
    "collapsed": true,
    "ExecuteTime": {
     "end_time": "2023-09-27T13:59:25.277662Z",
     "start_time": "2023-09-27T13:59:25.187755Z"
    }
   },
   "outputs": [],
   "source": [
    "assert(fib(0) == 0)\n",
    "assert(fib(5) == 5)\n",
    "\n",
    "fun fib(i: Int): Int = when (i) {\n",
    "    0 -> 0\n",
    "    1 -> 1\n",
    "    else -> fib(i - 2) + fib(i - 1)\n",
    "}"
   ]
  },
  {
   "cell_type": "code",
   "execution_count": null,
   "outputs": [],
   "source": [],
   "metadata": {
    "collapsed": false
   }
  }
 ],
 "metadata": {
  "kernelspec": {
   "display_name": "Kotlin",
   "language": "kotlin",
   "name": "kotlin"
  },
  "language_info": {
   "name": "kotlin",
   "version": "1.8.20",
   "mimetype": "text/x-kotlin",
   "file_extension": ".kt",
   "pygments_lexer": "kotlin",
   "codemirror_mode": "text/x-kotlin",
   "nbconvert_exporter": ""
  }
 },
 "nbformat": 4,
 "nbformat_minor": 0
}
